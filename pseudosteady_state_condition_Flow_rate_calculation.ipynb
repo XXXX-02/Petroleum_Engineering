{
 "cells": [
  {
   "cell_type": "markdown",
   "id": "d658ab25",
   "metadata": {},
   "source": [
    "<div class = 'alert alert block alert-info'>\n",
    "Q. A gas well is producing under a pseudosteady-state condition in a reservoir having an permeability of 20md. Estimate the well production rate by the pseudopressure approach and compare the result with that of the pressure-squared approach. \n",
    "    formation thickness, ft = 10<br>\n",
    "    $P_{avg}$, psia = 2000<br> \n",
    "    $P_{wf}$, psia = 1000<br>   \n",
    "    ratio of external drainage radius over wellbore radius = 2000<br>   \n",
    "    reservoir temperature , °F = 130<br> </div>  \n",
    "    <h5><center> PVT DATA </center></h5>\n",
    "    \n",
    "  |   S.N |   pressure, psia |   viscosity, cp |   gas compressibility factor |\n",
    "|------:|-----------------:|----------------:|-----------------------------:|\n",
    "|     0 |             14.7 |         0.0118  |                       0.9983 |\n",
    "|     1 |            200   |         0.01228 |                       0.9831 |\n",
    "|     2 |            400   |         0.01268 |                       0.9682 |\n",
    "|     3 |            600   |         0.01306 |                       0.9541 |\n",
    "|     4 |            800   |         0.01351 |                       0.9409 |\n",
    "|     5 |           1000   |         0.01397 |                       0.9291 |\n",
    "|     6 |           1200   |         0.01439 |                       0.9188 |\n",
    "|     7 |           1400   |         0.01485 |                       0.9107 |\n",
    "|     8 |           1600   |         0.01533 |                       0.9032 |\n",
    "|     9 |           1800   |         0.01577 |                       0.8984 |\n",
    "|    10 |           2000   |         0.01624 |                       0.8949 |\n",
    "|    11 |           2200   |         0.01671 |                       0.8919 |\n",
    "|    12 |           2400   |         0.01716 |                       0.8891 |"
   ]
  },
  {
   "cell_type": "code",
   "execution_count": 1,
   "id": "f88d5175",
   "metadata": {},
   "outputs": [
    {
     "data": {
      "text/html": [
       "<div>\n",
       "<style scoped>\n",
       "    .dataframe tbody tr th:only-of-type {\n",
       "        vertical-align: middle;\n",
       "    }\n",
       "\n",
       "    .dataframe tbody tr th {\n",
       "        vertical-align: top;\n",
       "    }\n",
       "\n",
       "    .dataframe thead th {\n",
       "        text-align: right;\n",
       "    }\n",
       "</style>\n",
       "<table border=\"1\" class=\"dataframe\">\n",
       "  <thead>\n",
       "    <tr style=\"text-align: right;\">\n",
       "      <th></th>\n",
       "      <th>p</th>\n",
       "      <th>μ</th>\n",
       "      <th>z</th>\n",
       "    </tr>\n",
       "  </thead>\n",
       "  <tbody>\n",
       "    <tr>\n",
       "      <th>0</th>\n",
       "      <td>14.7</td>\n",
       "      <td>0.01180</td>\n",
       "      <td>0.9983</td>\n",
       "    </tr>\n",
       "    <tr>\n",
       "      <th>1</th>\n",
       "      <td>200.0</td>\n",
       "      <td>0.01228</td>\n",
       "      <td>0.9831</td>\n",
       "    </tr>\n",
       "    <tr>\n",
       "      <th>2</th>\n",
       "      <td>400.0</td>\n",
       "      <td>0.01268</td>\n",
       "      <td>0.9682</td>\n",
       "    </tr>\n",
       "    <tr>\n",
       "      <th>3</th>\n",
       "      <td>600.0</td>\n",
       "      <td>0.01306</td>\n",
       "      <td>0.9541</td>\n",
       "    </tr>\n",
       "    <tr>\n",
       "      <th>4</th>\n",
       "      <td>800.0</td>\n",
       "      <td>0.01351</td>\n",
       "      <td>0.9409</td>\n",
       "    </tr>\n",
       "    <tr>\n",
       "      <th>5</th>\n",
       "      <td>1000.0</td>\n",
       "      <td>0.01397</td>\n",
       "      <td>0.9291</td>\n",
       "    </tr>\n",
       "    <tr>\n",
       "      <th>6</th>\n",
       "      <td>1200.0</td>\n",
       "      <td>0.01439</td>\n",
       "      <td>0.9188</td>\n",
       "    </tr>\n",
       "    <tr>\n",
       "      <th>7</th>\n",
       "      <td>1400.0</td>\n",
       "      <td>0.01485</td>\n",
       "      <td>0.9107</td>\n",
       "    </tr>\n",
       "    <tr>\n",
       "      <th>8</th>\n",
       "      <td>1600.0</td>\n",
       "      <td>0.01533</td>\n",
       "      <td>0.9032</td>\n",
       "    </tr>\n",
       "    <tr>\n",
       "      <th>9</th>\n",
       "      <td>1800.0</td>\n",
       "      <td>0.01577</td>\n",
       "      <td>0.8984</td>\n",
       "    </tr>\n",
       "    <tr>\n",
       "      <th>10</th>\n",
       "      <td>2000.0</td>\n",
       "      <td>0.01624</td>\n",
       "      <td>0.8949</td>\n",
       "    </tr>\n",
       "    <tr>\n",
       "      <th>11</th>\n",
       "      <td>2200.0</td>\n",
       "      <td>0.01671</td>\n",
       "      <td>0.8919</td>\n",
       "    </tr>\n",
       "    <tr>\n",
       "      <th>12</th>\n",
       "      <td>2400.0</td>\n",
       "      <td>0.01716</td>\n",
       "      <td>0.8891</td>\n",
       "    </tr>\n",
       "  </tbody>\n",
       "</table>\n",
       "</div>"
      ],
      "text/plain": [
       "         p        μ       z\n",
       "0     14.7  0.01180  0.9983\n",
       "1    200.0  0.01228  0.9831\n",
       "2    400.0  0.01268  0.9682\n",
       "3    600.0  0.01306  0.9541\n",
       "4    800.0  0.01351  0.9409\n",
       "5   1000.0  0.01397  0.9291\n",
       "6   1200.0  0.01439  0.9188\n",
       "7   1400.0  0.01485  0.9107\n",
       "8   1600.0  0.01533  0.9032\n",
       "9   1800.0  0.01577  0.8984\n",
       "10  2000.0  0.01624  0.8949\n",
       "11  2200.0  0.01671  0.8919\n",
       "12  2400.0  0.01716  0.8891"
      ]
     },
     "execution_count": 1,
     "metadata": {},
     "output_type": "execute_result"
    }
   ],
   "source": [
    "import pandas as pd\n",
    "import numpy as np\n",
    "p = [14.7, 200, 400, 600, 800, 1000, 1200, 1400, 1600, 1800, 2000, 2200, 2400]\n",
    "uyo = [.0118, 0.01228,0.01268,0.01306,0.01351, 0.01397, 0.01439,0.01485, 0.01533, 0.01577, 0.01624, 0.01671, 0.01716]\n",
    "z = [.9983, .9831, .9682, .9541, .9409, .9291, .9188, .9107, .9032, .8984, .8949, .8919, .8891]\n",
    "df = pd.DataFrame({'p':p,'\\u03BC':uyo, 'z':z})\n",
    "df"
   ]
  },
  {
   "cell_type": "code",
   "execution_count": 2,
   "id": "89842aa8",
   "metadata": {},
   "outputs": [
    {
     "data": {
      "text/plain": [
       "Text(0, 0.5, 'z')"
      ]
     },
     "execution_count": 2,
     "metadata": {},
     "output_type": "execute_result"
    },
    {
     "data": {
      "image/png": "[encoded data removed]",
      "text/plain": [
       "<Figure size 432x288 with 1 Axes>"
      ]
     },
     "metadata": {
      "needs_background": "light"
     },
     "output_type": "display_data"
    }
   ],
   "source": [
    "import matplotlib.pyplot as plt\n",
    "plt.plot(df['p'], df['z']);\n",
    "plt.xlabel('p')\n",
    "plt.ylabel('z')"
   ]
  },
  {
   "cell_type": "code",
   "execution_count": 3,
   "id": "7c14c952",
   "metadata": {},
   "outputs": [
    {
     "data": {
      "text/plain": [
       "Text(0, 0.5, 'μ')"
      ]
     },
     "execution_count": 3,
     "metadata": {},
     "output_type": "execute_result"
    },
    {
     "data": {
      "image/png": "[encoded data removed]",
      "text/plain": [
       "<Figure size 432x288 with 1 Axes>"
      ]
     },
     "metadata": {
      "needs_background": "light"
     },
     "output_type": "display_data"
    }
   ],
   "source": [
    "plt.plot(df['p'], df['μ']);\n",
    "plt.xlabel('p')\n",
    "plt.ylabel('μ')"
   ]
  },
  {
   "cell_type": "markdown",
   "id": "83171d8a",
   "metadata": {},
   "source": [
    "<div class = 'alert alert block alert-info'>\n",
    "    <Strong>Pseudo pressure</Strong>\n",
    "$$ m(p), \\frac {psi^{2}}{cp}  = \\int_{p_{0}}^{p} \\frac{2p}{μz} dp$$ <br></div>"
   ]
  },
  {
   "cell_type": "code",
   "execution_count": 4,
   "id": "3b4f4397",
   "metadata": {},
   "outputs": [
    {
     "data": {
      "text/html": [
       "<div>\n",
       "<style scoped>\n",
       "    .dataframe tbody tr th:only-of-type {\n",
       "        vertical-align: middle;\n",
       "    }\n",
       "\n",
       "    .dataframe tbody tr th {\n",
       "        vertical-align: top;\n",
       "    }\n",
       "\n",
       "    .dataframe thead th {\n",
       "        text-align: right;\n",
       "    }\n",
       "</style>\n",
       "<table border=\"1\" class=\"dataframe\">\n",
       "  <thead>\n",
       "    <tr style=\"text-align: right;\">\n",
       "      <th></th>\n",
       "      <th>p</th>\n",
       "      <th>μ</th>\n",
       "      <th>z</th>\n",
       "      <th>pressure difference</th>\n",
       "      <th>p/(μ*z)</th>\n",
       "    </tr>\n",
       "  </thead>\n",
       "  <tbody>\n",
       "    <tr>\n",
       "      <th>0</th>\n",
       "      <td>14.7</td>\n",
       "      <td>0.01180</td>\n",
       "      <td>0.9983</td>\n",
       "      <td>NaN</td>\n",
       "      <td>1247.884115</td>\n",
       "    </tr>\n",
       "    <tr>\n",
       "      <th>1</th>\n",
       "      <td>200.0</td>\n",
       "      <td>0.01228</td>\n",
       "      <td>0.9831</td>\n",
       "      <td>185.3</td>\n",
       "      <td>16566.620843</td>\n",
       "    </tr>\n",
       "    <tr>\n",
       "      <th>2</th>\n",
       "      <td>400.0</td>\n",
       "      <td>0.01268</td>\n",
       "      <td>0.9682</td>\n",
       "      <td>200.0</td>\n",
       "      <td>32581.843963</td>\n",
       "    </tr>\n",
       "    <tr>\n",
       "      <th>3</th>\n",
       "      <td>600.0</td>\n",
       "      <td>0.01306</td>\n",
       "      <td>0.9541</td>\n",
       "      <td>200.0</td>\n",
       "      <td>48151.983067</td>\n",
       "    </tr>\n",
       "    <tr>\n",
       "      <th>4</th>\n",
       "      <td>800.0</td>\n",
       "      <td>0.01351</td>\n",
       "      <td>0.9409</td>\n",
       "      <td>200.0</td>\n",
       "      <td>62934.845364</td>\n",
       "    </tr>\n",
       "    <tr>\n",
       "      <th>5</th>\n",
       "      <td>1000.0</td>\n",
       "      <td>0.01397</td>\n",
       "      <td>0.9291</td>\n",
       "      <td>200.0</td>\n",
       "      <td>77044.410016</td>\n",
       "    </tr>\n",
       "    <tr>\n",
       "      <th>6</th>\n",
       "      <td>1200.0</td>\n",
       "      <td>0.01439</td>\n",
       "      <td>0.9188</td>\n",
       "      <td>200.0</td>\n",
       "      <td>90761.040400</td>\n",
       "    </tr>\n",
       "    <tr>\n",
       "      <th>7</th>\n",
       "      <td>1400.0</td>\n",
       "      <td>0.01485</td>\n",
       "      <td>0.9107</td>\n",
       "      <td>200.0</td>\n",
       "      <td>103520.472467</td>\n",
       "    </tr>\n",
       "    <tr>\n",
       "      <th>8</th>\n",
       "      <td>1600.0</td>\n",
       "      <td>0.01533</td>\n",
       "      <td>0.9032</td>\n",
       "      <td>200.0</td>\n",
       "      <td>115556.372154</td>\n",
       "    </tr>\n",
       "    <tr>\n",
       "      <th>9</th>\n",
       "      <td>1800.0</td>\n",
       "      <td>0.01577</td>\n",
       "      <td>0.8984</td>\n",
       "      <td>200.0</td>\n",
       "      <td>127048.946595</td>\n",
       "    </tr>\n",
       "    <tr>\n",
       "      <th>10</th>\n",
       "      <td>2000.0</td>\n",
       "      <td>0.01624</td>\n",
       "      <td>0.8949</td>\n",
       "      <td>200.0</td>\n",
       "      <td>137616.168689</td>\n",
       "    </tr>\n",
       "    <tr>\n",
       "      <th>11</th>\n",
       "      <td>2200.0</td>\n",
       "      <td>0.01671</td>\n",
       "      <td>0.8919</td>\n",
       "      <td>200.0</td>\n",
       "      <td>147614.855932</td>\n",
       "    </tr>\n",
       "    <tr>\n",
       "      <th>12</th>\n",
       "      <td>2400.0</td>\n",
       "      <td>0.01716</td>\n",
       "      <td>0.8891</td>\n",
       "      <td>200.0</td>\n",
       "      <td>157305.297335</td>\n",
       "    </tr>\n",
       "  </tbody>\n",
       "</table>\n",
       "</div>"
      ],
      "text/plain": [
       "         p        μ       z  pressure difference        p/(μ*z)\n",
       "0     14.7  0.01180  0.9983                  NaN    1247.884115\n",
       "1    200.0  0.01228  0.9831                185.3   16566.620843\n",
       "2    400.0  0.01268  0.9682                200.0   32581.843963\n",
       "3    600.0  0.01306  0.9541                200.0   48151.983067\n",
       "4    800.0  0.01351  0.9409                200.0   62934.845364\n",
       "5   1000.0  0.01397  0.9291                200.0   77044.410016\n",
       "6   1200.0  0.01439  0.9188                200.0   90761.040400\n",
       "7   1400.0  0.01485  0.9107                200.0  103520.472467\n",
       "8   1600.0  0.01533  0.9032                200.0  115556.372154\n",
       "9   1800.0  0.01577  0.8984                200.0  127048.946595\n",
       "10  2000.0  0.01624  0.8949                200.0  137616.168689\n",
       "11  2200.0  0.01671  0.8919                200.0  147614.855932\n",
       "12  2400.0  0.01716  0.8891                200.0  157305.297335"
      ]
     },
     "execution_count": 4,
     "metadata": {},
     "output_type": "execute_result"
    }
   ],
   "source": [
    "df['pressure difference'] = df['p'].diff(periods = 1)\n",
    "df['p/(\\u03BC*z)'] = df['p']/(df['\\u03BC']*df['z'])\n",
    "df                          "
   ]
  },
  {
   "cell_type": "code",
   "execution_count": 5,
   "id": "0cceeb4f",
   "metadata": {},
   "outputs": [
    {
     "data": {
      "text/plain": [
       "[8907.252479126542,\n",
       " 24574.232403168066,\n",
       " 40366.91351506868,\n",
       " 55543.41421558306,\n",
       " 69989.62768991862,\n",
       " 83902.72520786131,\n",
       " 97140.7564336466,\n",
       " 109538.42231067756,\n",
       " 121302.65937437645,\n",
       " 132332.55764181638,\n",
       " 142615.5123105303,\n",
       " 152460.07663340116]"
      ]
     },
     "execution_count": 5,
     "metadata": {},
     "output_type": "execute_result"
    }
   ],
   "source": [
    "add = []\n",
    "for i in range(len(df)):\n",
    "    try:\n",
    "        x = (df['p/(\\u03BC*z)'][i] + df['p/(\\u03BC*z)'][i+1])/2\n",
    "        add.append(x) \n",
    "    except:\n",
    "        break\n",
    "add"
   ]
  },
  {
   "cell_type": "code",
   "execution_count": 6,
   "id": "4497acdb",
   "metadata": {},
   "outputs": [
    {
     "data": {
      "text/plain": [
       "['NaN',\n",
       " 8907.252479126542,\n",
       " 24574.232403168066,\n",
       " 40366.91351506868,\n",
       " 55543.41421558306,\n",
       " 69989.62768991862,\n",
       " 83902.72520786131,\n",
       " 97140.7564336466,\n",
       " 109538.42231067756,\n",
       " 121302.65937437645,\n",
       " 132332.55764181638,\n",
       " 142615.5123105303,\n",
       " 152460.07663340116]"
      ]
     },
     "execution_count": 6,
     "metadata": {},
     "output_type": "execute_result"
    }
   ],
   "source": [
    "add.insert(0, 'NaN')\n",
    "add"
   ]
  },
  {
   "cell_type": "code",
   "execution_count": 7,
   "id": "3d616f27",
   "metadata": {},
   "outputs": [
    {
     "data": {
      "text/html": [
       "<div>\n",
       "<style scoped>\n",
       "    .dataframe tbody tr th:only-of-type {\n",
       "        vertical-align: middle;\n",
       "    }\n",
       "\n",
       "    .dataframe tbody tr th {\n",
       "        vertical-align: top;\n",
       "    }\n",
       "\n",
       "    .dataframe thead th {\n",
       "        text-align: right;\n",
       "    }\n",
       "</style>\n",
       "<table border=\"1\" class=\"dataframe\">\n",
       "  <thead>\n",
       "    <tr style=\"text-align: right;\">\n",
       "      <th></th>\n",
       "      <th>p</th>\n",
       "      <th>μ</th>\n",
       "      <th>z</th>\n",
       "      <th>pressure difference</th>\n",
       "      <th>p/(μ*z)</th>\n",
       "      <th>p/$(μ*z)_{avg}$</th>\n",
       "    </tr>\n",
       "  </thead>\n",
       "  <tbody>\n",
       "    <tr>\n",
       "      <th>0</th>\n",
       "      <td>14.7</td>\n",
       "      <td>0.01180</td>\n",
       "      <td>0.9983</td>\n",
       "      <td>NaN</td>\n",
       "      <td>1247.884115</td>\n",
       "      <td>NaN</td>\n",
       "    </tr>\n",
       "    <tr>\n",
       "      <th>1</th>\n",
       "      <td>200.0</td>\n",
       "      <td>0.01228</td>\n",
       "      <td>0.9831</td>\n",
       "      <td>185.3</td>\n",
       "      <td>16566.620843</td>\n",
       "      <td>8907.252479</td>\n",
       "    </tr>\n",
       "    <tr>\n",
       "      <th>2</th>\n",
       "      <td>400.0</td>\n",
       "      <td>0.01268</td>\n",
       "      <td>0.9682</td>\n",
       "      <td>200.0</td>\n",
       "      <td>32581.843963</td>\n",
       "      <td>24574.232403</td>\n",
       "    </tr>\n",
       "    <tr>\n",
       "      <th>3</th>\n",
       "      <td>600.0</td>\n",
       "      <td>0.01306</td>\n",
       "      <td>0.9541</td>\n",
       "      <td>200.0</td>\n",
       "      <td>48151.983067</td>\n",
       "      <td>40366.913515</td>\n",
       "    </tr>\n",
       "    <tr>\n",
       "      <th>4</th>\n",
       "      <td>800.0</td>\n",
       "      <td>0.01351</td>\n",
       "      <td>0.9409</td>\n",
       "      <td>200.0</td>\n",
       "      <td>62934.845364</td>\n",
       "      <td>55543.414216</td>\n",
       "    </tr>\n",
       "    <tr>\n",
       "      <th>5</th>\n",
       "      <td>1000.0</td>\n",
       "      <td>0.01397</td>\n",
       "      <td>0.9291</td>\n",
       "      <td>200.0</td>\n",
       "      <td>77044.410016</td>\n",
       "      <td>69989.62769</td>\n",
       "    </tr>\n",
       "    <tr>\n",
       "      <th>6</th>\n",
       "      <td>1200.0</td>\n",
       "      <td>0.01439</td>\n",
       "      <td>0.9188</td>\n",
       "      <td>200.0</td>\n",
       "      <td>90761.040400</td>\n",
       "      <td>83902.725208</td>\n",
       "    </tr>\n",
       "    <tr>\n",
       "      <th>7</th>\n",
       "      <td>1400.0</td>\n",
       "      <td>0.01485</td>\n",
       "      <td>0.9107</td>\n",
       "      <td>200.0</td>\n",
       "      <td>103520.472467</td>\n",
       "      <td>97140.756434</td>\n",
       "    </tr>\n",
       "    <tr>\n",
       "      <th>8</th>\n",
       "      <td>1600.0</td>\n",
       "      <td>0.01533</td>\n",
       "      <td>0.9032</td>\n",
       "      <td>200.0</td>\n",
       "      <td>115556.372154</td>\n",
       "      <td>109538.422311</td>\n",
       "    </tr>\n",
       "    <tr>\n",
       "      <th>9</th>\n",
       "      <td>1800.0</td>\n",
       "      <td>0.01577</td>\n",
       "      <td>0.8984</td>\n",
       "      <td>200.0</td>\n",
       "      <td>127048.946595</td>\n",
       "      <td>121302.659374</td>\n",
       "    </tr>\n",
       "    <tr>\n",
       "      <th>10</th>\n",
       "      <td>2000.0</td>\n",
       "      <td>0.01624</td>\n",
       "      <td>0.8949</td>\n",
       "      <td>200.0</td>\n",
       "      <td>137616.168689</td>\n",
       "      <td>132332.557642</td>\n",
       "    </tr>\n",
       "    <tr>\n",
       "      <th>11</th>\n",
       "      <td>2200.0</td>\n",
       "      <td>0.01671</td>\n",
       "      <td>0.8919</td>\n",
       "      <td>200.0</td>\n",
       "      <td>147614.855932</td>\n",
       "      <td>142615.512311</td>\n",
       "    </tr>\n",
       "    <tr>\n",
       "      <th>12</th>\n",
       "      <td>2400.0</td>\n",
       "      <td>0.01716</td>\n",
       "      <td>0.8891</td>\n",
       "      <td>200.0</td>\n",
       "      <td>157305.297335</td>\n",
       "      <td>152460.076633</td>\n",
       "    </tr>\n",
       "  </tbody>\n",
       "</table>\n",
       "</div>"
      ],
      "text/plain": [
       "         p        μ       z  pressure difference        p/(μ*z)  \\\n",
       "0     14.7  0.01180  0.9983                  NaN    1247.884115   \n",
       "1    200.0  0.01228  0.9831                185.3   16566.620843   \n",
       "2    400.0  0.01268  0.9682                200.0   32581.843963   \n",
       "3    600.0  0.01306  0.9541                200.0   48151.983067   \n",
       "4    800.0  0.01351  0.9409                200.0   62934.845364   \n",
       "5   1000.0  0.01397  0.9291                200.0   77044.410016   \n",
       "6   1200.0  0.01439  0.9188                200.0   90761.040400   \n",
       "7   1400.0  0.01485  0.9107                200.0  103520.472467   \n",
       "8   1600.0  0.01533  0.9032                200.0  115556.372154   \n",
       "9   1800.0  0.01577  0.8984                200.0  127048.946595   \n",
       "10  2000.0  0.01624  0.8949                200.0  137616.168689   \n",
       "11  2200.0  0.01671  0.8919                200.0  147614.855932   \n",
       "12  2400.0  0.01716  0.8891                200.0  157305.297335   \n",
       "\n",
       "   p/$(μ*z)_{avg}$  \n",
       "0              NaN  \n",
       "1      8907.252479  \n",
       "2     24574.232403  \n",
       "3     40366.913515  \n",
       "4     55543.414216  \n",
       "5      69989.62769  \n",
       "6     83902.725208  \n",
       "7     97140.756434  \n",
       "8    109538.422311  \n",
       "9    121302.659374  \n",
       "10   132332.557642  \n",
       "11   142615.512311  \n",
       "12   152460.076633  "
      ]
     },
     "execution_count": 7,
     "metadata": {},
     "output_type": "execute_result"
    }
   ],
   "source": [
    "df['p/$(\\u03BC*z)_{avg}$'] = add\n",
    "df"
   ]
  },
  {
   "cell_type": "code",
   "execution_count": 8,
   "id": "69ebe762",
   "metadata": {},
   "outputs": [
    {
     "data": {
      "text/html": [
       "<div>\n",
       "<style scoped>\n",
       "    .dataframe tbody tr th:only-of-type {\n",
       "        vertical-align: middle;\n",
       "    }\n",
       "\n",
       "    .dataframe tbody tr th {\n",
       "        vertical-align: top;\n",
       "    }\n",
       "\n",
       "    .dataframe thead th {\n",
       "        text-align: right;\n",
       "    }\n",
       "</style>\n",
       "<table border=\"1\" class=\"dataframe\">\n",
       "  <thead>\n",
       "    <tr style=\"text-align: right;\">\n",
       "      <th></th>\n",
       "      <th>p</th>\n",
       "      <th>μ</th>\n",
       "      <th>z</th>\n",
       "      <th>pressure difference</th>\n",
       "      <th>p/(μ*z)</th>\n",
       "      <th>p/$(μ*z)_{avg}$</th>\n",
       "      <th>2$\\Delta $p /$(μ*z)_{avg}$</th>\n",
       "      <th>m(p)</th>\n",
       "    </tr>\n",
       "  </thead>\n",
       "  <tbody>\n",
       "    <tr>\n",
       "      <th>0</th>\n",
       "      <td>14.7</td>\n",
       "      <td>0.01180</td>\n",
       "      <td>0.9983</td>\n",
       "      <td>NaN</td>\n",
       "      <td>1247.884115</td>\n",
       "      <td>NaN</td>\n",
       "      <td>NaN</td>\n",
       "      <td>NaN</td>\n",
       "    </tr>\n",
       "    <tr>\n",
       "      <th>1</th>\n",
       "      <td>200.0</td>\n",
       "      <td>0.01228</td>\n",
       "      <td>0.9831</td>\n",
       "      <td>185.3</td>\n",
       "      <td>16566.620843</td>\n",
       "      <td>8907.252479</td>\n",
       "      <td>3301027.768764</td>\n",
       "      <td>3301027.768764</td>\n",
       "    </tr>\n",
       "    <tr>\n",
       "      <th>2</th>\n",
       "      <td>400.0</td>\n",
       "      <td>0.01268</td>\n",
       "      <td>0.9682</td>\n",
       "      <td>200.0</td>\n",
       "      <td>32581.843963</td>\n",
       "      <td>24574.232403</td>\n",
       "      <td>9829692.961267</td>\n",
       "      <td>13130720.730032</td>\n",
       "    </tr>\n",
       "    <tr>\n",
       "      <th>3</th>\n",
       "      <td>600.0</td>\n",
       "      <td>0.01306</td>\n",
       "      <td>0.9541</td>\n",
       "      <td>200.0</td>\n",
       "      <td>48151.983067</td>\n",
       "      <td>40366.913515</td>\n",
       "      <td>16146765.406027</td>\n",
       "      <td>29277486.136059</td>\n",
       "    </tr>\n",
       "    <tr>\n",
       "      <th>4</th>\n",
       "      <td>800.0</td>\n",
       "      <td>0.01351</td>\n",
       "      <td>0.9409</td>\n",
       "      <td>200.0</td>\n",
       "      <td>62934.845364</td>\n",
       "      <td>55543.414216</td>\n",
       "      <td>22217365.686233</td>\n",
       "      <td>51494851.822292</td>\n",
       "    </tr>\n",
       "    <tr>\n",
       "      <th>5</th>\n",
       "      <td>1000.0</td>\n",
       "      <td>0.01397</td>\n",
       "      <td>0.9291</td>\n",
       "      <td>200.0</td>\n",
       "      <td>77044.410016</td>\n",
       "      <td>69989.62769</td>\n",
       "      <td>27995851.075967</td>\n",
       "      <td>79490702.89826</td>\n",
       "    </tr>\n",
       "    <tr>\n",
       "      <th>6</th>\n",
       "      <td>1200.0</td>\n",
       "      <td>0.01439</td>\n",
       "      <td>0.9188</td>\n",
       "      <td>200.0</td>\n",
       "      <td>90761.040400</td>\n",
       "      <td>83902.725208</td>\n",
       "      <td>33561090.083145</td>\n",
       "      <td>113051792.981404</td>\n",
       "    </tr>\n",
       "    <tr>\n",
       "      <th>7</th>\n",
       "      <td>1400.0</td>\n",
       "      <td>0.01485</td>\n",
       "      <td>0.9107</td>\n",
       "      <td>200.0</td>\n",
       "      <td>103520.472467</td>\n",
       "      <td>97140.756434</td>\n",
       "      <td>38856302.573459</td>\n",
       "      <td>151908095.554863</td>\n",
       "    </tr>\n",
       "    <tr>\n",
       "      <th>8</th>\n",
       "      <td>1600.0</td>\n",
       "      <td>0.01533</td>\n",
       "      <td>0.9032</td>\n",
       "      <td>200.0</td>\n",
       "      <td>115556.372154</td>\n",
       "      <td>109538.422311</td>\n",
       "      <td>43815368.924271</td>\n",
       "      <td>195723464.479134</td>\n",
       "    </tr>\n",
       "    <tr>\n",
       "      <th>9</th>\n",
       "      <td>1800.0</td>\n",
       "      <td>0.01577</td>\n",
       "      <td>0.8984</td>\n",
       "      <td>200.0</td>\n",
       "      <td>127048.946595</td>\n",
       "      <td>121302.659374</td>\n",
       "      <td>48521063.749751</td>\n",
       "      <td>244244528.228884</td>\n",
       "    </tr>\n",
       "    <tr>\n",
       "      <th>10</th>\n",
       "      <td>2000.0</td>\n",
       "      <td>0.01624</td>\n",
       "      <td>0.8949</td>\n",
       "      <td>200.0</td>\n",
       "      <td>137616.168689</td>\n",
       "      <td>132332.557642</td>\n",
       "      <td>52933023.056727</td>\n",
       "      <td>297177551.285611</td>\n",
       "    </tr>\n",
       "    <tr>\n",
       "      <th>11</th>\n",
       "      <td>2200.0</td>\n",
       "      <td>0.01671</td>\n",
       "      <td>0.8919</td>\n",
       "      <td>200.0</td>\n",
       "      <td>147614.855932</td>\n",
       "      <td>142615.512311</td>\n",
       "      <td>57046204.924212</td>\n",
       "      <td>354223756.209823</td>\n",
       "    </tr>\n",
       "    <tr>\n",
       "      <th>12</th>\n",
       "      <td>2400.0</td>\n",
       "      <td>0.01716</td>\n",
       "      <td>0.8891</td>\n",
       "      <td>200.0</td>\n",
       "      <td>157305.297335</td>\n",
       "      <td>152460.076633</td>\n",
       "      <td>60984030.65336</td>\n",
       "      <td>415207786.863184</td>\n",
       "    </tr>\n",
       "  </tbody>\n",
       "</table>\n",
       "</div>"
      ],
      "text/plain": [
       "         p        μ       z  pressure difference        p/(μ*z)  \\\n",
       "0     14.7  0.01180  0.9983                  NaN    1247.884115   \n",
       "1    200.0  0.01228  0.9831                185.3   16566.620843   \n",
       "2    400.0  0.01268  0.9682                200.0   32581.843963   \n",
       "3    600.0  0.01306  0.9541                200.0   48151.983067   \n",
       "4    800.0  0.01351  0.9409                200.0   62934.845364   \n",
       "5   1000.0  0.01397  0.9291                200.0   77044.410016   \n",
       "6   1200.0  0.01439  0.9188                200.0   90761.040400   \n",
       "7   1400.0  0.01485  0.9107                200.0  103520.472467   \n",
       "8   1600.0  0.01533  0.9032                200.0  115556.372154   \n",
       "9   1800.0  0.01577  0.8984                200.0  127048.946595   \n",
       "10  2000.0  0.01624  0.8949                200.0  137616.168689   \n",
       "11  2200.0  0.01671  0.8919                200.0  147614.855932   \n",
       "12  2400.0  0.01716  0.8891                200.0  157305.297335   \n",
       "\n",
       "   p/$(μ*z)_{avg}$ 2$\\Delta $p /$(μ*z)_{avg}$              m(p)  \n",
       "0              NaN                        NaN               NaN  \n",
       "1      8907.252479             3301027.768764    3301027.768764  \n",
       "2     24574.232403             9829692.961267   13130720.730032  \n",
       "3     40366.913515            16146765.406027   29277486.136059  \n",
       "4     55543.414216            22217365.686233   51494851.822292  \n",
       "5      69989.62769            27995851.075967    79490702.89826  \n",
       "6     83902.725208            33561090.083145  113051792.981404  \n",
       "7     97140.756434            38856302.573459  151908095.554863  \n",
       "8    109538.422311            43815368.924271  195723464.479134  \n",
       "9    121302.659374            48521063.749751  244244528.228884  \n",
       "10   132332.557642            52933023.056727  297177551.285611  \n",
       "11   142615.512311            57046204.924212  354223756.209823  \n",
       "12   152460.076633             60984030.65336  415207786.863184  "
      ]
     },
     "execution_count": 8,
     "metadata": {},
     "output_type": "execute_result"
    }
   ],
   "source": [
    "df['2$\\Delta $p /$(\\u03BC*z)_{avg}$'] = 2*df['p/$(\\u03BC*z)_{avg}$']*df['pressure difference']\n",
    "df['m(p)'] = df['2$\\Delta $p /$(\\u03BC*z)_{avg}$'].cumsum()\n",
    "df"
   ]
  },
  {
   "cell_type": "code",
   "execution_count": 9,
   "id": "8a36dd06",
   "metadata": {},
   "outputs": [
    {
     "data": {
      "text/plain": [
       "Text(0, 0.5, 'z')"
      ]
     },
     "execution_count": 9,
     "metadata": {},
     "output_type": "execute_result"
    },
    {
     "data": {
      "image/png": "[encoded data removed]",
      "text/plain": [
       "<Figure size 432x288 with 1 Axes>"
      ]
     },
     "metadata": {
      "needs_background": "light"
     },
     "output_type": "display_data"
    }
   ],
   "source": [
    "plt.plot(df['m(p)'], df['z']);\n",
    "plt.xlabel('m(p)')\n",
    "plt.ylabel('z')"
   ]
  },
  {
   "cell_type": "markdown",
   "id": "04c202b4",
   "metadata": {},
   "source": [
    "<div class = 'alert alert block alert-success'>\n",
    "<Strong>Flow Rate in Pseudosteady state Condition at Average Reservoir Pressure Using Pseudo pressure Approach</Strong><br><br><div class = 'alert alert block alert-info'>\n",
    "$$ Flow Rate(Q), Mscf/day  = \\frac{kh[m(p_{avg_{r}}) - m(p_{wf})]}{1422T[ln(\\frac{r_{e}}{r_{w}}) - .75]}$$<br></div>\n",
    "\n",
    "Given:<br>\n",
    "   formation thickness,ft = 10<br>\n",
    "   k = 20 md<br>\n",
    "    $P_{avg}$, psia = 2000<br>\n",
    "    $P_{wf}$, psia = 1000   \n",
    "    ratio of external drainage radius over wellbore radius (re/rw) , let's assume it as x = 2000   \n",
    "    reservoir temperature , °F = 130, but in equation we need temperature in °R\n",
    "    $$T(°R) = 460+T(°F)$$\n",
    "    \n",
    "From above table At $P_{avg}$, psia = 2000 , value of m(p) is 297177551.285611<br>\n",
    "At $P_{wf}$, psia = 1000 , value of m(p) is 79490702.89825967\n",
    "    </div>"
   ]
  },
  {
   "cell_type": "code",
   "execution_count": 10,
   "id": "eda6640a",
   "metadata": {},
   "outputs": [
    {
     "name": "stdout",
     "output_type": "stream",
     "text": [
      "FLow rate by pseudo pressure method is : 7574.653922357367 MScf/day\n"
     ]
    }
   ],
   "source": [
    "# Given:\n",
    "m_pavg = df.loc[10, 'm(p)']\n",
    "m_pwf = df.loc[5, 'm(p)']\n",
    "k = 20\n",
    "h = 10\n",
    "x = 2000\n",
    "T = 130+460\n",
    "\n",
    "\n",
    "q = k*h*(m_pavg-m_pwf)/(1422*T*(np.log(x) - .75))\n",
    "print('FLow rate by pseudo pressure method is :', q, 'MScf/day')"
   ]
  },
  {
   "cell_type": "markdown",
   "id": "b7e33685",
   "metadata": {},
   "source": [
    "<Strong>Flow Rate in Pseudosteady state Condition at Average Reservoir Pressure Using Pseudo pressure Approach</Strong><br><br><div class = 'alert alert block alert-success'>\n",
    "$$ Flow Rate(Q), scf/day  = \\frac{kh[{p_{avg_{e}}}^2 - {p_{wf}}^2]}{1422T*(μ*z)_{avg}[ln(\\frac{r_{e}}{r_{w}}) - .75]}$$<br>\n",
    "</div>\n",
    "\n",
    "$P_{avg}$ in pressure square method:<br>\n",
    "<div class = 'alert alert block alert-success'>\n",
    "$$ P_{avg} = \\sqrt{\\frac{(P_2)^2 - (P_1)^2}{2}}$$</div>\n",
    "\n",
    "we have to calculate z and μ at this pressure\n",
    "\n",
    "<br><div class = 'alert alert block alert-success'>\n",
    "calculate μ between x1, and x2 ,assuming linear approximation:\n",
    "$$ μ_3 = \\frac{(x_2-x_3)*μ_1 + (x_3-x_1)*μ_2}{(x_2-x_3) -(x_3-x_1)}$$\n",
    "    </div>"
   ]
  },
  {
   "cell_type": "code",
   "execution_count": 11,
   "id": "672a3740",
   "metadata": {},
   "outputs": [
    {
     "data": {
      "text/plain": [
       "1581.1388300841897"
      ]
     },
     "execution_count": 11,
     "metadata": {},
     "output_type": "execute_result"
    }
   ],
   "source": [
    "p1 = 1000\n",
    "p2 = 2000\n",
    "ps_avg = np.sqrt((p2**2 + p1**2 )/2)\n",
    "ps_avg"
   ]
  },
  {
   "cell_type": "code",
   "execution_count": 12,
   "id": "ceb2597c",
   "metadata": {},
   "outputs": [
    {
     "data": {
      "text/plain": [
       "0.015078123275765961"
      ]
     },
     "execution_count": 12,
     "metadata": {},
     "output_type": "execute_result"
    }
   ],
   "source": [
    "x3 = ps_avg\n",
    "x1 = 1400\n",
    "x2 = 1600\n",
    "a = x3-x1\n",
    "b = x2-x1\n",
    "μ_1 = df.iloc[7, 1]\n",
    "μ_2 = df.iloc[8, 1]\n",
    "μ_3 = (a*μ_2 + b*μ_1)/(a+b)\n",
    "μ_3"
   ]
  },
  {
   "cell_type": "code",
   "execution_count": 13,
   "id": "c83c2cd6",
   "metadata": {},
   "outputs": [
    {
     "data": {
      "text/plain": [
       "0.9071355738161568"
      ]
     },
     "execution_count": 13,
     "metadata": {},
     "output_type": "execute_result"
    }
   ],
   "source": [
    "z_1 = df.iloc[7, 2]\n",
    "z_2 = df.iloc[8, 2]\n",
    "z_3 = (a*z_2 + b*z_1)/(a+b)\n",
    "z_3"
   ]
  },
  {
   "cell_type": "code",
   "execution_count": 14,
   "id": "e6192e20",
   "metadata": {},
   "outputs": [
    {
     "name": "stdout",
     "output_type": "stream",
     "text": [
      "FLow rate by pressure square method is : 7631.8947071937 MScf/day\n"
     ]
    }
   ],
   "source": [
    "q1 = k*h*(p2**2 - p1**2)/(1422*z_3*μ_3*T*(np.log(x) - .75))\n",
    "print('FLow rate by pressure square method is :', q1, 'MScf/day')"
   ]
  },
  {
   "cell_type": "markdown",
   "id": "1e067945",
   "metadata": {},
   "source": [
    "` Because we don't have data of z and μ at 1581 psi , so we aasume linear approximation , that's why we got more different result`"
   ]
  },
  {
   "cell_type": "code",
   "execution_count": 15,
   "id": "1b378894",
   "metadata": {},
   "outputs": [
    {
     "name": "stdout",
     "output_type": "stream",
     "text": [
      "error 0.7556884502324351 %\n"
     ]
    }
   ],
   "source": [
    "error = (q1 - q)*100/q\n",
    "print('error', error ,'%')"
   ]
  },
  {
   "cell_type": "code",
   "execution_count": null,
   "id": "2ffeaf2c",
   "metadata": {},
   "outputs": [],
   "source": []
  },
  {
   "cell_type": "code",
   "execution_count": null,
   "id": "09e83c5f",
   "metadata": {},
   "outputs": [],
   "source": []
  }
 ],
 "metadata": {
  "kernelspec": {
   "display_name": "Python 3 (ipykernel)",
   "language": "python",
   "name": "python3"
  },
  "language_info": {
   "codemirror_mode": {
    "name": "ipython",
    "version": 3
   },
   "file_extension": ".py",
   "mimetype": "text/x-python",
   "name": "python",
   "nbconvert_exporter": "python",
   "pygments_lexer": "ipython3",
   "version": "3.9.12"
  }
 },
 "nbformat": 4,
 "nbformat_minor": 5
}
