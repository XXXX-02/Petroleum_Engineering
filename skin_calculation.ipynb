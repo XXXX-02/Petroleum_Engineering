{
 "cells": [
  {
   "cell_type": "markdown",
   "id": "d595c3a4",
   "metadata": {},
   "source": [
    "<div class = 'alert alert block alert-info'>\n",
    "A pressure drawdown test analysis for a well with q = 83 stb/d , B= 1.12 rb/day , $\\mu $ = 2.15 , h= 12ft, rw = .265 ft and $p_{avg}-p_{wf}$=265 psi\n",
    "gave k = 155md and s= 2.2. find pressure drop across skin , FE, DR, DF, apparent wellbore redius.\n",
    "    </div>"
   ]
  },
  {
   "cell_type": "code",
   "execution_count": 2,
   "id": "9f9d9591",
   "metadata": {},
   "outputs": [],
   "source": [
    "#Given\n",
    "q = 83\n",
    "B= 1.12\n",
    "uyo=3.15\n",
    "h= 12\n",
    "rw=.265\n",
    "Pressue_difference = 265\n",
    "k= 155\n",
    "s = 2.2"
   ]
  },
  {
   "cell_type": "markdown",
   "id": "9fe1f8ca",
   "metadata": {},
   "source": [
    "<div class = 'alert alert block alert-success'>\n",
    "<b>Pressure drop due to skin</b>\n",
    "$$ \\Delta p_{skin} = \\frac{141.2*Q*B*\\mu}{k*h}$$\n",
    "\n",
    "<b>Flow efficiency</b>\n",
    "$$ Flow \\ efficiency(FE) = \\frac{(p_{avg}-p_{wf}) -p_{skin}}{ (p_{avg}-p_{wf})}$$\n",
    "\n",
    "<b>Damage Ratio</b>\n",
    "$$Damage\\ Ratio = \\frac{1}{Flow \\ efficiency}$$\n",
    "\n",
    "<b>Damage Factor</b>\n",
    "$$Damage\\ Factor = 1-Flow \\ efficiency$$\n",
    "\n",
    "<b>apparent_wellbore_radius</b>\n",
    "$$ r_{apparent \\ wellbore \\ radius} = r_{w}*exp^{-s}$$\n",
    "</div>"
   ]
  },
  {
   "cell_type": "code",
   "execution_count": 3,
   "id": "7aa39b27",
   "metadata": {},
   "outputs": [
    {
     "data": {
      "text/plain": [
       "48.90475664516129"
      ]
     },
     "execution_count": 3,
     "metadata": {},
     "output_type": "execute_result"
    }
   ],
   "source": [
    "p_skin = 141.2*q*B*uyo*s/(k*h)\n",
    "p_skin"
   ]
  },
  {
   "cell_type": "code",
   "execution_count": 4,
   "id": "beb60dcd",
   "metadata": {},
   "outputs": [
    {
     "data": {
      "text/plain": [
       "0.8154537485088253"
      ]
     },
     "execution_count": 4,
     "metadata": {},
     "output_type": "execute_result"
    }
   ],
   "source": [
    "Flow_efficiency = (Pressue_difference-p_skin)/Pressue_difference\n",
    "Flow_efficiency"
   ]
  },
  {
   "cell_type": "code",
   "execution_count": 5,
   "id": "bb701ab6",
   "metadata": {},
   "outputs": [
    {
     "data": {
      "text/plain": [
       "1.2263111204389507"
      ]
     },
     "execution_count": 5,
     "metadata": {},
     "output_type": "execute_result"
    }
   ],
   "source": [
    "Damage_Ratio = 1/Flow_efficiency\n",
    "Damage_Ratio"
   ]
  },
  {
   "cell_type": "code",
   "execution_count": 6,
   "id": "44d4dbb8",
   "metadata": {},
   "outputs": [
    {
     "data": {
      "text/plain": [
       "0.18454625149117465"
      ]
     },
     "execution_count": 6,
     "metadata": {},
     "output_type": "execute_result"
    }
   ],
   "source": [
    "Damage_Factor = 1-Flow_efficiency\n",
    "Damage_Factor"
   ]
  },
  {
   "cell_type": "code",
   "execution_count": 8,
   "id": "4724e8f5",
   "metadata": {},
   "outputs": [
    {
     "data": {
      "text/plain": [
       "0.029362836966018477"
      ]
     },
     "execution_count": 8,
     "metadata": {},
     "output_type": "execute_result"
    }
   ],
   "source": [
    "import numpy as np\n",
    "apparent_wellbore_radius = rw*np.exp(-s)\n",
    "apparent_wellbore_radius"
   ]
  },
  {
   "cell_type": "code",
   "execution_count": null,
   "id": "0db4ade5",
   "metadata": {},
   "outputs": [],
   "source": []
  }
 ],
 "metadata": {
  "kernelspec": {
   "display_name": "Python 3 (ipykernel)",
   "language": "python",
   "name": "python3"
  },
  "language_info": {
   "codemirror_mode": {
    "name": "ipython",
    "version": 3
   },
   "file_extension": ".py",
   "mimetype": "text/x-python",
   "name": "python",
   "nbconvert_exporter": "python",
   "pygments_lexer": "ipython3",
   "version": "3.9.12"
  }
 },
 "nbformat": 4,
 "nbformat_minor": 5
}
